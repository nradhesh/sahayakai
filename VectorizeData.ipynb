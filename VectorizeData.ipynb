{
 "cells": [
  {
   "cell_type": "code",
   "execution_count": 7,
   "id": "e0326690-21ce-4ee2-945b-1c326fa5bad3",
   "metadata": {},
   "outputs": [],
   "source": [
    "import pandas as pd\n",
    "import numpy as np\n",
    "import psycopg2\n",
    "from sklearn.feature_extraction.text import TfidfVectorizer\n",
    "from sklearn.metrics.pairwise import cosine_similarity\n",
    "import pickle"
   ]
  },
  {
   "cell_type": "code",
   "execution_count": 2,
   "id": "7f8a6738-ae1a-4f0c-a1f2-482bf31fcafb",
   "metadata": {},
   "outputs": [],
   "source": [
    "df = pd.read_csv(\"scheme_data.csv\")"
   ]
  },
  {
   "cell_type": "code",
   "execution_count": 3,
   "id": "55fe0808-8304-4df5-a437-0e0df9982456",
   "metadata": {},
   "outputs": [],
   "source": [
    "con = df.apply(lambda row:row.to_string(), axis=1)"
   ]
  },
  {
   "cell_type": "code",
   "execution_count": 4,
   "id": "87a7bab3-f89a-42fb-93f0-a775c62f8ea7",
   "metadata": {},
   "outputs": [],
   "source": [
    "vectorizer = TfidfVectorizer(stop_words='english')"
   ]
  },
  {
   "cell_type": "code",
   "execution_count": 5,
   "id": "76d6bbf3-3ae9-4755-91d8-afdb54f8c0b3",
   "metadata": {},
   "outputs": [],
   "source": [
    "vectors = vectorizer.fit_transform(con)"
   ]
  },
  {
   "cell_type": "code",
   "execution_count": 8,
   "id": "c9c28b06-214c-45bd-b9e7-70eef99610e7",
   "metadata": {},
   "outputs": [],
   "source": [
    "embeddings = vectors.toarray()"
   ]
  },
  {
   "cell_type": "code",
   "execution_count": 8,
   "id": "caea3fb1-6207-40e8-adeb-526fed6d7cff",
   "metadata": {},
   "outputs": [
    {
     "data": {
      "text/plain": [
       "13323"
      ]
     },
     "execution_count": 8,
     "metadata": {},
     "output_type": "execute_result"
    }
   ],
   "source": [
    "len(vectors.A[0])"
   ]
  },
  {
   "cell_type": "code",
   "execution_count": 12,
   "id": "9ae3dff0-16a5-4217-9ecb-17f3da67d295",
   "metadata": {},
   "outputs": [],
   "source": [
    "with open(\"Vector.pkl\", \"wb\") as f:\n",
    "    pickle.dump(vectors,f)"
   ]
  },
  {
   "cell_type": "code",
   "execution_count": 17,
   "id": "3ab0f187-6a32-416c-8496-eaead27b3cd2",
   "metadata": {},
   "outputs": [],
   "source": [
    "l=None\n",
    "with open(\"Vector.pkl\", \"rb\") as f:\n",
    "    l = pickle.load(f)"
   ]
  },
  {
   "cell_type": "code",
   "execution_count": 18,
   "id": "ee0af294-b420-4c42-bc2c-051f223fed73",
   "metadata": {},
   "outputs": [
    {
     "data": {
      "text/plain": [
       "(2407, 13323)"
      ]
     },
     "execution_count": 18,
     "metadata": {},
     "output_type": "execute_result"
    }
   ],
   "source": [
    "l.A.shape"
   ]
  },
  {
   "cell_type": "code",
   "execution_count": 13,
   "id": "c122d345-3243-4fb9-9039-b5436ebceeb8",
   "metadata": {},
   "outputs": [],
   "source": [
    "l=None\n",
    "with open(\"Vector.pkl\", \"rb\") as f:\n",
    "    l = pickle.load(f)"
   ]
  },
  {
   "cell_type": "code",
   "execution_count": 16,
   "id": "20acf839-56e5-4a57-9d29-cdc74c164b31",
   "metadata": {},
   "outputs": [
    {
     "data": {
      "text/plain": [
       "(2407, 13323)"
      ]
     },
     "execution_count": 16,
     "metadata": {},
     "output_type": "execute_result"
    }
   ],
   "source": [
    "l.A.shape"
   ]
  },
  {
   "cell_type": "code",
   "execution_count": null,
   "id": "35ddc4be-330d-414a-b360-79d9fa118f4e",
   "metadata": {},
   "outputs": [],
   "source": []
  }
 ],
 "metadata": {
  "kernelspec": {
   "display_name": "Python 3 (ipykernel)",
   "language": "python",
   "name": "python3"
  },
  "language_info": {
   "codemirror_mode": {
    "name": "ipython",
    "version": 3
   },
   "file_extension": ".py",
   "mimetype": "text/x-python",
   "name": "python",
   "nbconvert_exporter": "python",
   "pygments_lexer": "ipython3",
   "version": "3.11.7"
  }
 },
 "nbformat": 4,
 "nbformat_minor": 5
}
